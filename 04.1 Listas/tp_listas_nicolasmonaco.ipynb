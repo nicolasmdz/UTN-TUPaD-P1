{
  "nbformat": 4,
  "nbformat_minor": 0,
  "metadata": {
    "colab": {
      "provenance": []
    },
    "kernelspec": {
      "name": "python3",
      "display_name": "Python 3"
    },
    "language_info": {
      "name": "python"
    }
  },
  "cells": [
    {
      "cell_type": "markdown",
      "source": [
        "1) Crear una lista con los números del 1 al 100 que sean múltiplos de 4. Utilizar la función range."
      ],
      "metadata": {
        "id": "1aN9iAx2ATs-"
      }
    },
    {
      "cell_type": "code",
      "source": [
        "multiplos_de_cuatro = list(range(4,101,4))\n",
        "print(multiplos_de_cuatro)"
      ],
      "metadata": {
        "colab": {
          "base_uri": "https://localhost:8080/"
        },
        "id": "jUke9x5Z-gNR",
        "outputId": "e14486b3-3538-4fe8-c80a-07e06ac8b05a"
      },
      "execution_count": null,
      "outputs": [
        {
          "output_type": "stream",
          "name": "stdout",
          "text": [
            "[4, 8, 12, 16, 20, 24, 28, 32, 36, 40, 44, 48, 52, 56, 60, 64, 68, 72, 76, 80, 84, 88, 92, 96, 100]\n"
          ]
        }
      ]
    },
    {
      "cell_type": "markdown",
      "source": [
        "2) Crear una lista con cinco elementos (colocar los elementos que más te gusten) y mostrar el penúltimo. ¡Puedes hacerlo como se muestra en los videos o bien investigar cómo funciona el indexing con números negativos!"
      ],
      "metadata": {
        "id": "EzmDVLx0Auq2"
      }
    },
    {
      "cell_type": "code",
      "source": [
        "cosas_que_me_gustan= [\"futbol\", \"familia\",\"brindis\",\"visitas\",\"autos\"]\n",
        "print(cosas_que_me_gustan[-2])"
      ],
      "metadata": {
        "colab": {
          "base_uri": "https://localhost:8080/"
        },
        "id": "1JIEJvYFBAmU",
        "outputId": "ac59ae6a-a558-4595-d074-bb98630b0885"
      },
      "execution_count": null,
      "outputs": [
        {
          "output_type": "stream",
          "name": "stdout",
          "text": [
            "visitas\n"
          ]
        }
      ]
    },
    {
      "cell_type": "markdown",
      "source": [
        "3) Crear una lista vacía, agregar tres palabras con append e imprimir la lista resultante por pantalla. Pista: para crear una lista vacía debes colocar los corchetes sin nada en su interior. Por ejemplo:\n",
        "lista_vacia = []"
      ],
      "metadata": {
        "id": "9kGvPKksC_Hl"
      }
    },
    {
      "cell_type": "code",
      "source": [
        "lista_vacia = []\n",
        "lista_vacia.append(\"nico\")\n",
        "lista_vacia.append(\"monaco\")\n",
        "lista_vacia.append(\"ojeda\")\n",
        "\n",
        "print(lista_vacia)"
      ],
      "metadata": {
        "colab": {
          "base_uri": "https://localhost:8080/"
        },
        "id": "MgBdMjgZDOF0",
        "outputId": "49e4e5ac-382b-4488-9a42-476fee9a864c"
      },
      "execution_count": null,
      "outputs": [
        {
          "output_type": "stream",
          "name": "stdout",
          "text": [
            "['nico', 'monaco', 'ojeda']\n"
          ]
        }
      ]
    },
    {
      "cell_type": "markdown",
      "source": [
        "4) Reemplazar el segundo y último valor de la lista “animales” con las palabras “loro” y “oso”,\n",
        "respectivamente. Imprimir la lista resultante por pantalla. ¡Puedes hacerlo como se muestra\n",
        "en los videos o bien investigar cómo funciona el indexing con números negativos!\n",
        "animales = [\"perro\", \"gato\", \"conejo\", \"pez\"]"
      ],
      "metadata": {
        "id": "iTu_VM8HD3Fx"
      }
    },
    {
      "cell_type": "code",
      "source": [
        "animales= [\"perro\", \"gato\", \"conejo\", \"pez\"]\n",
        "animales[1]=\"loro\"\n",
        "animales[-1]=\"oso\"\n",
        "print(animales)"
      ],
      "metadata": {
        "colab": {
          "base_uri": "https://localhost:8080/"
        },
        "id": "F_PhRUYgEGDu",
        "outputId": "a697b0b1-c32a-4bca-a542-803b6ef79ac3"
      },
      "execution_count": null,
      "outputs": [
        {
          "output_type": "stream",
          "name": "stdout",
          "text": [
            "['perro', 'loro', 'conejo', 'oso']\n"
          ]
        }
      ]
    },
    {
      "cell_type": "markdown",
      "source": [
        "    5) Analizar el siguiente programa y explicar con tus palabras qué es lo que realiza.\n"
      ],
      "metadata": {
        "id": "KVUFnzJdFdhy"
      }
    },
    {
      "cell_type": "code",
      "source": [
        "numeros = [8,15,3,22,7]\n",
        "numeros.remove(max(numeros))\n",
        "print(numeros)"
      ],
      "metadata": {
        "id": "UOexwKtvFhbl"
      },
      "execution_count": null,
      "outputs": []
    },
    {
      "cell_type": "markdown",
      "source": [
        "El programa lo que hace es toma el numero mayor usando la funcion max() y lo quita de la lista usando el metodo remove."
      ],
      "metadata": {
        "id": "zFsELS6aGIRK"
      }
    },
    {
      "cell_type": "markdown",
      "source": [
        "6) Crear una lista con números del 10 al 30 (incluído), haciendo saltos de 5 en 5 y mostrar por\n",
        "pantalla los dos primeros.\n"
      ],
      "metadata": {
        "id": "NgTOKd_OGbhe"
      }
    },
    {
      "cell_type": "code",
      "source": [
        "numeros = list(range(10,31,5))\n",
        "print(numeros[0:2])\n"
      ],
      "metadata": {
        "colab": {
          "base_uri": "https://localhost:8080/"
        },
        "id": "vmKmFW97Gv46",
        "outputId": "f5ee2f13-b3a7-428d-db76-5704baf92d29"
      },
      "execution_count": null,
      "outputs": [
        {
          "output_type": "stream",
          "name": "stdout",
          "text": [
            "[10, 15]\n"
          ]
        }
      ]
    },
    {
      "cell_type": "markdown",
      "source": [
        "7) Reemplazar los dos valores centrales (índices 1 y 2) de la lista “autos” por dos nuevos valores cualesquiera.\n",
        "autos = [\"sedan\", \"polo\", \"suran\", \"gol\"]"
      ],
      "metadata": {
        "id": "rfaVJ3J3Hewq"
      }
    },
    {
      "cell_type": "code",
      "source": [
        "autos = [\"sedan\", \"polo\", \"suran\", \"gol\"]\n",
        "autos[1]=\"ferrari\"\n",
        "autos[2]=\"fiat\"\n",
        "print(autos)\n"
      ],
      "metadata": {
        "colab": {
          "base_uri": "https://localhost:8080/"
        },
        "id": "sP260zfUHj5r",
        "outputId": "48d8d0eb-70d7-4a4f-ee13-c2a8b63c59f0"
      },
      "execution_count": null,
      "outputs": [
        {
          "output_type": "stream",
          "name": "stdout",
          "text": [
            "['sedan', 'ferrari', 'fiat', 'gol']\n"
          ]
        }
      ]
    },
    {
      "cell_type": "markdown",
      "source": [
        "8) Crear una lista vacía llamada \"dobles\" y agregar el doble de 5, 10 y 15 usando append directamente. Imprimir la lista resultante por pantalla.\n"
      ],
      "metadata": {
        "id": "0fFdgWRgIKfm"
      }
    },
    {
      "cell_type": "code",
      "source": [
        "dobles=[]\n",
        "dobles.append(5*2)\n",
        "dobles.append(10*2)\n",
        "dobles.append(15*2)\n",
        "print(dobles)\n",
        "\n"
      ],
      "metadata": {
        "colab": {
          "base_uri": "https://localhost:8080/"
        },
        "id": "RF8KO3NSINpQ",
        "outputId": "9d73ad45-d008-47a0-a3a3-7576b39005f2"
      },
      "execution_count": null,
      "outputs": [
        {
          "output_type": "stream",
          "name": "stdout",
          "text": [
            "[10, 20, 30]\n"
          ]
        }
      ]
    },
    {
      "cell_type": "markdown",
      "source": [
        "9) Dada la lista “compras”, cuyos elementos representan los productos comprados por diferentes clientes:\n",
        "compras = [[\"pan\", \"leche\"], [\"arroz\", \"fideos\", \"salsa\"],\n",
        "[\"agua\"]]\n",
        "a) Agregar \"jugo\" a la lista del tercer cliente usando append.\n",
        "b) Reemplazar \"fideos\" por \"tallarines\" en la lista del segundo cliente.\n",
        "c) Eliminar \"pan\" de la lista del primer cliente.\n",
        "d) Imprimir la lista resultante por pantalla"
      ],
      "metadata": {
        "id": "TLDovOArJCo8"
      }
    },
    {
      "cell_type": "code",
      "source": [
        " compras = [[\"pan\", \"leche\"], [\"arroz\", \"fideos\", \"salsa\"], [\"agua\"]]\n",
        " compras[2].append(\"jugo\")\n",
        " compras[1][1]=\"tallarines\"\n",
        " compras[0].remove(\"pan\")\n",
        " print(compras)"
      ],
      "metadata": {
        "colab": {
          "base_uri": "https://localhost:8080/"
        },
        "id": "BPlRV3RxJL_H",
        "outputId": "156d7c21-2cea-4539-ba0d-38fee72b0cbd"
      },
      "execution_count": null,
      "outputs": [
        {
          "output_type": "stream",
          "name": "stdout",
          "text": [
            "[['leche'], ['arroz', 'tallarines', 'salsa'], ['agua', 'jugo']]\n"
          ]
        }
      ]
    },
    {
      "cell_type": "markdown",
      "source": [
        "10) Elaborar una lista anidada llamada “lista_anidada” que contenga los siguientes elementos:\n",
        "● Posición lista_anidada[0]: 15\n",
        "● Posición lista_anidada[1]: True\n",
        "● Posición lista_anidada[2][0]: 25.5\n",
        "● Posición lista_anidada[2][1]: 57.9\n",
        "● Posición lista_anidada[2][2]: 30.6\n",
        "● Posición lista_anidada[3]: False\n",
        "Imprimir la lista resultante por pantalla."
      ],
      "metadata": {
        "id": "5uFxy794LBxx"
      }
    },
    {
      "cell_type": "code",
      "source": [
        "\n",
        "lista_anidada = [15, True, [25.5, 57.9, 30.6], False]\n",
        "\n",
        "\n",
        "print(lista_anidada)\n"
      ],
      "metadata": {
        "id": "ADmAOUH3LGoM"
      },
      "execution_count": null,
      "outputs": []
    },
    {
      "cell_type": "code",
      "source": [],
      "metadata": {
        "id": "WgUy7FvDLtG9"
      },
      "execution_count": null,
      "outputs": []
    }
  ]
}